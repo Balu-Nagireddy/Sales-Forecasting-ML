{
 "cells": [
  {
   "cell_type": "code",
   "execution_count": 11,
   "metadata": {},
   "outputs": [
    {
     "name": "stdout",
     "output_type": "stream",
     "text": [
      "Current Working Directory: C:\\Users\\DELL\\Desktop\\Projects\\Predictive Analytics for Sales Forecasting\n"
     ]
    },
    {
     "name": "stderr",
     "output_type": "stream",
     "text": [
      "C:\\Users\\DELL\\AppData\\Local\\Temp\\ipykernel_8740\\2690591672.py:15: DtypeWarning: Columns (10,12) have mixed types. Specify dtype option on import or set low_memory=False.\n",
      "  df = pd.read_csv(RAW_DATA_PATH)\n"
     ]
    },
    {
     "name": "stdout",
     "output_type": "stream",
     "text": [
      "Before Preprocessing:\n",
      "  product_id store_id        date  sales  revenue  stock  price promo_type_1  \\\n",
      "0      P0001    S0002  2017-01-02    0.0     0.00    8.0   6.25         PR14   \n",
      "1      P0001    S0012  2017-01-02    1.0     5.30    0.0   6.25         PR14   \n",
      "2      P0001    S0013  2017-01-02    2.0    10.59    0.0   6.25         PR14   \n",
      "3      P0001    S0023  2017-01-02    0.0     0.00    6.0   6.25         PR14   \n",
      "4      P0001    S0025  2017-01-02    0.0     0.00    1.0   6.25         PR14   \n",
      "\n",
      "  promo_bin_1 promo_type_2 promo_bin_2  promo_discount_2 promo_discount_type_2  \n",
      "0         NaN         PR03         NaN               NaN                   NaN  \n",
      "1         NaN         PR03         NaN               NaN                   NaN  \n",
      "2         NaN         PR03         NaN               NaN                   NaN  \n",
      "3         NaN         PR03         NaN               NaN                   NaN  \n",
      "4         NaN         PR03         NaN               NaN                   NaN  \n",
      "After Preprocessing:\n",
      "           product_id store_id  sales  revenue  stock  price promo_type_1  \\\n",
      "date                                                                        \n",
      "2019-08-26      P0130    S0008    0.0      0.0   23.0   14.5         PR05   \n",
      "2019-08-26      P0130    S0010    0.0      0.0   10.0   14.5         PR05   \n",
      "2019-08-26      P0130    S0013    0.0      0.0   10.0   14.5         PR05   \n",
      "2019-08-26      P0130    S0015    0.0      0.0    8.0   14.5         PR05   \n",
      "2019-08-26      P0130    S0017    0.0      0.0   10.0   14.5         PR05   \n",
      "\n",
      "           promo_bin_1 promo_type_2 promo_bin_2  promo_discount_2  \\\n",
      "date                                                                \n",
      "2019-08-26         low         PR02     verylow              20.0   \n",
      "2019-08-26         low         PR02     verylow              20.0   \n",
      "2019-08-26         low         PR02     verylow              20.0   \n",
      "2019-08-26         low         PR02     verylow              20.0   \n",
      "2019-08-26         low         PR02     verylow              20.0   \n",
      "\n",
      "           promo_discount_type_2  year  month  day  day_of_week  week_of_year  \\\n",
      "date                                                                            \n",
      "2019-08-26                  PR02  2019      8   26            0            35   \n",
      "2019-08-26                  PR02  2019      8   26            0            35   \n",
      "2019-08-26                  PR02  2019      8   26            0            35   \n",
      "2019-08-26                  PR02  2019      8   26            0            35   \n",
      "2019-08-26                  PR02  2019      8   26            0            35   \n",
      "\n",
      "            quarter  \n",
      "date                 \n",
      "2019-08-26        3  \n",
      "2019-08-26        3  \n",
      "2019-08-26        3  \n",
      "2019-08-26        3  \n",
      "2019-08-26        3  \n",
      "Processed data saved to C://Users//DELL//Desktop//Projects//Predictive Analytics for Sales Forecasting//sales_forecasting\\data\\processed\\sales_data_cleaned.csv\n"
     ]
    }
   ],
   "source": [
    "import sys\n",
    "import os\n",
    "import pandas as pd\n",
    "\n",
    "# Get project root dynamically\n",
    "PROJECT_ROOT = r\"C://Users//DELL//Desktop//Projects//Predictive Analytics for Sales Forecasting//sales_forecasting\"\n",
    "sys.path.append(PROJECT_ROOT)\n",
    "\n",
    "print(\"Current Working Directory:\", os.getcwd())\n",
    "\n",
    "from sales_forecasting.scripts.data_processing import preprocess_data\n",
    "\n",
    "# Load raw data\n",
    "RAW_DATA_PATH = os.path.join(PROJECT_ROOT, \"data\", \"raw\", \"sales\", \"sales.csv\")\n",
    "df = pd.read_csv(RAW_DATA_PATH)\n",
    "\n",
    "# Display before processing\n",
    "print(\"Before Preprocessing:\")\n",
    "print(df.head())\n",
    "\n",
    "# Preprocess data\n",
    "df_cleaned = preprocess_data(df)\n",
    "\n",
    "# Display after processing\n",
    "print(\"After Preprocessing:\")\n",
    "print(df_cleaned.head())\n",
    "\n",
    "# Save processed data\n",
    "PROCESSED_DATA_PATH = os.path.join(PROJECT_ROOT, \"data\", \"processed\", \"sales_data_cleaned.csv\")\n",
    "os.makedirs(os.path.dirname(PROCESSED_DATA_PATH), exist_ok=True)\n",
    "df_cleaned.to_csv(PROCESSED_DATA_PATH, index=True)\n",
    "\n",
    "print(f\"Processed data saved to {PROCESSED_DATA_PATH}\")\n"
   ]
  }
 ],
 "metadata": {
  "kernelspec": {
   "display_name": "sales_forecasting_env",
   "language": "python",
   "name": "python3"
  },
  "language_info": {
   "codemirror_mode": {
    "name": "ipython",
    "version": 3
   },
   "file_extension": ".py",
   "mimetype": "text/x-python",
   "name": "python",
   "nbconvert_exporter": "python",
   "pygments_lexer": "ipython3",
   "version": "3.12.0"
  }
 },
 "nbformat": 4,
 "nbformat_minor": 2
}
