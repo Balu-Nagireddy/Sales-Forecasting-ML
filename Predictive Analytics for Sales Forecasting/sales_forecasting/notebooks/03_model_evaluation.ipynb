{
 "cells": [
  {
   "cell_type": "markdown",
   "metadata": {},
   "source": [
    "Step 1: Importing the Resource"
   ]
  },
  {
   "cell_type": "code",
   "execution_count": 15,
   "metadata": {},
   "outputs": [],
   "source": [
    "import pickle\n",
    "import pandas as pd\n",
    "import numpy as np\n",
    "from sklearn.metrics import mean_absolute_error, mean_squared_error\n",
    "from sklearn.model_selection import train_test_split\n",
    "from sklearn.preprocessing import LabelEncoder"
   ]
  },
  {
   "cell_type": "markdown",
   "metadata": {},
   "source": [
    "Step 2: Loading the Processed Data"
   ]
  },
  {
   "cell_type": "code",
   "execution_count": 17,
   "metadata": {},
   "outputs": [],
   "source": [
    "# Load Test Data\n",
    "df = pd.read_csv(\"C://Users//DELL//Desktop//Projects//Predictive Analytics for Sales Forecasting//sales_forecasting//data//processed//sales_data_cleaned.csv\", index_col=\"date\", parse_dates=True)\n",
    "X = df.drop(columns=[\"sales\"])\n",
    "y = df[\"sales\"]"
   ]
  },
  {
   "cell_type": "markdown",
   "metadata": {},
   "source": [
    "Step 3: Loading Best Model"
   ]
  },
  {
   "cell_type": "code",
   "execution_count": 18,
   "metadata": {},
   "outputs": [],
   "source": [
    "# Load Best Model\n",
    "with open(\"C://Users//DELL//Desktop//Projects//Predictive Analytics for Sales Forecasting//sales_forecasting//models//best_model.pkl\", \"rb\") as file:\n",
    "    best_model = pickle.load(file)"
   ]
  },
  {
   "cell_type": "markdown",
   "metadata": {},
   "source": [
    "Step 4: Predicting & Evaluating the Model"
   ]
  },
  {
   "cell_type": "code",
   "execution_count": 19,
   "metadata": {},
   "outputs": [
    {
     "name": "stdout",
     "output_type": "stream",
     "text": [
      "Final Model Evaluation:\n",
      "MAE: 0.67, RMSE: 1.68\n"
     ]
    }
   ],
   "source": [
    "# Convert categorical features to numeric\n",
    "X = X.copy()  # Avoid modifying original dataset\n",
    "categorical_cols = X.select_dtypes(include=['object']).columns\n",
    "\n",
    "for col in categorical_cols:\n",
    "    X[col] = LabelEncoder().fit_transform(X[col])\n",
    "\n",
    "# Ensure no missing values\n",
    "X = X.fillna(0)\n",
    "\n",
    "y_pred = best_model.predict(X)\n",
    "mae = mean_absolute_error(y, y_pred)\n",
    "\n",
    "# Fix RMSE calculation\n",
    "try:\n",
    "    rmse = mean_squared_error(y, y_pred, squared=False)  # Works in newer versions\n",
    "except TypeError:\n",
    "    rmse = np.sqrt(mean_squared_error(y, y_pred))  # Manual calculation for older versions\n",
    "\n",
    "print(f\"Final Model Evaluation:\\nMAE: {mae:.2f}, RMSE: {rmse:.2f}\")"
   ]
  }
 ],
 "metadata": {
  "kernelspec": {
   "display_name": "sales_forecasting_env",
   "language": "python",
   "name": "python3"
  },
  "language_info": {
   "codemirror_mode": {
    "name": "ipython",
    "version": 3
   },
   "file_extension": ".py",
   "mimetype": "text/x-python",
   "name": "python",
   "nbconvert_exporter": "python",
   "pygments_lexer": "ipython3",
   "version": "3.12.0"
  }
 },
 "nbformat": 4,
 "nbformat_minor": 2
}
